{
 "cells": [
  {
   "cell_type": "code",
   "execution_count": 3,
   "id": "cce3dad3",
   "metadata": {},
   "outputs": [
    {
     "name": "stdout",
     "output_type": "stream",
     "text": [
      "Welcome to Rock, Paper, Scissors!\n",
      "Type 'rock', 'paper', or 'scissors' to play.\n",
      "Type 'quit' to exit the game.\n",
      "Your choice: Rock\n",
      "Computer chose: paper\n",
      "Computer wins!\n",
      "\n",
      "Your choice: Rock\n",
      "Computer chose: scissors\n",
      "You win!\n",
      "\n",
      "Your choice: quit\n",
      "Thanks for playing! Goodbye!\n"
     ]
    }
   ],
   "source": [
    "import random\n",
    "\n",
    "def determine_winner(user_choice, computer_choice):\n",
    "    \"\"\"Determine the winner of the game based on user and computer choices.\"\"\"\n",
    "    if user_choice == computer_choice:\n",
    "        return \"It's a tie!\"\n",
    "    elif (user_choice == \"rock\" and computer_choice == \"scissors\") or \\\n",
    "         (user_choice == \"scissors\" and computer_choice == \"paper\") or \\\n",
    "         (user_choice == \"paper\" and computer_choice == \"rock\"):\n",
    "        return \"You win!\"\n",
    "    else:\n",
    "        return \"Computer wins!\"\n",
    "\n",
    "def main():\n",
    "    \"\"\"Main function to run the Rock, Paper, Scissors game.\"\"\"\n",
    "    choices = [\"rock\", \"paper\", \"scissors\"]\n",
    "    \n",
    "    print(\"Welcome to Rock, Paper, Scissors!\")\n",
    "    print(\"Type 'rock', 'paper', or 'scissors' to play.\")\n",
    "    print(\"Type 'quit' to exit the game.\")\n",
    "\n",
    "    while True:\n",
    "        # Get the user's choice\n",
    "        user_choice = input(\"Your choice: \").lower()\n",
    "        \n",
    "        if user_choice == \"quit\":\n",
    "            print(\"Thanks for playing! Goodbye!\")\n",
    "            break\n",
    "        elif user_choice not in choices:\n",
    "            print(\"Invalid choice. Please try again.\")\n",
    "            continue\n",
    "\n",
    "        # Generate a random choice for the computer\n",
    "        computer_choice = random.choice(choices)\n",
    "        print(f\"Computer chose: {computer_choice}\")\n",
    "\n",
    "        # Determine and display the winner\n",
    "        result = determine_winner(user_choice, computer_choice)\n",
    "        print(result)\n",
    "        print()\n",
    "\n",
    "if __name__ == \"__main__\":\n",
    "    main()\n"
   ]
  },
  {
   "cell_type": "code",
   "execution_count": null,
   "id": "9645d639",
   "metadata": {},
   "outputs": [],
   "source": []
  },
  {
   "cell_type": "code",
   "execution_count": null,
   "id": "a2d82821",
   "metadata": {},
   "outputs": [],
   "source": []
  }
 ],
 "metadata": {
  "kernelspec": {
   "display_name": "Python 3 (ipykernel)",
   "language": "python",
   "name": "python3"
  },
  "language_info": {
   "codemirror_mode": {
    "name": "ipython",
    "version": 3
   },
   "file_extension": ".py",
   "mimetype": "text/x-python",
   "name": "python",
   "nbconvert_exporter": "python",
   "pygments_lexer": "ipython3",
   "version": "3.9.13"
  }
 },
 "nbformat": 4,
 "nbformat_minor": 5
}
